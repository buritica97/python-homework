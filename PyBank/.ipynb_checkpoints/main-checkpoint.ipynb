{
 "cells": [
  {
   "cell_type": "code",
   "execution_count": 3,
   "metadata": {},
   "outputs": [],
   "source": [
    "# Import the pathlib and csv library \n",
    "from pathlib import Path\n",
    "import csv"
   ]
  },
  {
   "cell_type": "code",
   "execution_count": 4,
   "metadata": {},
   "outputs": [
    {
     "name": "stdout",
     "output_type": "stream",
     "text": [
      "/Users/buritica97/Desktop/python-homework/PyBank\n"
     ]
    }
   ],
   "source": [
    "# Set the file path \n",
    "print(f\"{Path.cwd()}\")\n",
    "csvpath = Path(\"../../cu-nyc-fin-pt-09-2020-u-c/Homework/02-Python/Instructions/PyBank/Resources/budget_data.csv\")"
   ]
  },
  {
   "cell_type": "code",
   "execution_count": 5,
   "metadata": {},
   "outputs": [],
   "source": [
    "# Define Variables \n",
    "tot_num_months = 0\n",
    "net_tot_amt = 0 \n",
    "x = 0\n",
    "max_increase = 0 \n",
    "max_increase_date = []\n",
    "max_decrease = 0 \n",
    "max_decrease_date = []"
   ]
  },
  {
   "cell_type": "code",
   "execution_count": 25,
   "metadata": {},
   "outputs": [],
   "source": [
    "# Open the csv file as an object\n",
    "with open(csvpath, 'r') as csvfile:\n",
    "    \n",
    "    #Pass in the csv file to the csv.reader() function\n",
    "    #(with ',' as the delmiter) and return the csvreader object \n",
    "    csvreader = csv.reader(csvfile, delimiter=',')\n",
    "    \n",
    "    #Read the header row first \n",
    "    csv_header = next(csvreader)\n",
    "    dates = []\n",
    "    profits = []\n",
    "    change = []\n",
    "\n",
    "    for row in csvreader: \n",
    "        dates.append(row[0])\n",
    "        profits.append(int(row[1]))\n",
    "\n",
    "    # Find the total number of months included in the dataset. \n",
    "    tot_num_months = len(dates)\n",
    "    \n",
    "    # Find the net total amount of Profit/Losses over the entire period. \n",
    "    net_tot_amt = sum(profits)\n",
    "    \n",
    "    ### HELP!!!! \n",
    "    # Find the average of the changes in Profit/Losses over the entire period.\n",
    "    for x in range(len(profits)-1):\n",
    "        change.append(profits[x+1] - profits[x])\n",
    "      \n",
    "    average_change = round(sum(change)/len(change), 2)\n",
    "    \n",
    "    # Find the greatest increase in profits (date and amount) over the entire period.\n",
    "    max_increase = max(change)\n",
    "    max_increase_date_index = change.index(max_increase)+1\n",
    "    max_increase_date = dates[max_increase_date_index]\n",
    "    \n",
    "  \n",
    "    \n",
    "     # Find the greatest decrease in losses (date and amount) over the entire period.\n",
    "    max_decrease = min(change)\n",
    "    max_decrease_date_index = change.index(max_decrease)+1\n",
    "    max_decrease_date = dates[max_decrease_date_index]\n",
    "    "
   ]
  },
  {
   "cell_type": "code",
   "execution_count": 26,
   "metadata": {},
   "outputs": [
    {
     "name": "stdout",
     "output_type": "stream",
     "text": [
      "86\n",
      "38382578\n",
      "-2315.12\n",
      "1926159\n",
      "Feb-2012\n",
      "-2196167\n",
      "Sep-2013\n"
     ]
    }
   ],
   "source": [
    "#Check varible value by printing each variable \n",
    "print(tot_num_months)\n",
    "print(net_tot_amt)\n",
    "print(average_change)\n",
    "print(max_increase)\n",
    "print(max_increase_date)\n",
    "print(max_decrease)\n",
    "print(max_decrease_date) "
   ]
  },
  {
   "cell_type": "code",
   "execution_count": 27,
   "metadata": {},
   "outputs": [],
   "source": [
    "# Set the path for the output.txt\n",
    "output_path = Path(\"output.txt\")\n",
    "\n",
    "# Open the output path as a file object \n",
    "with open(output_path, 'w') as file: \n",
    "    # Write final script to the output file \n",
    "    file.write(f\"Financial Analysis\\n\")\n",
    "    file.write(f\"---------------------\\n\")\n",
    "    file.write(f\"Total Months: {tot_num_months}\\n\")\n",
    "    file.write(f\"Total: ${net_tot_amt}\\n\")\n",
    "    file.write(f\"Average Change: ${average_change}\\n\")\n",
    "    file.write(f\"Greatest Increase in Profits: {max_increase_date} ${max_increase}\\n\")\n",
    "    file.write(f\"Greatest Decrease in Profits: {max_decrease_date} ${max_decrease}\\n\")"
   ]
  }
 ],
 "metadata": {
  "kernelspec": {
   "display_name": "Python 3",
   "language": "python",
   "name": "python3"
  },
  "language_info": {
   "codemirror_mode": {
    "name": "ipython",
    "version": 3
   },
   "file_extension": ".py",
   "mimetype": "text/x-python",
   "name": "python",
   "nbconvert_exporter": "python",
   "pygments_lexer": "ipython3",
   "version": "3.8.3"
  }
 },
 "nbformat": 4,
 "nbformat_minor": 4
}
