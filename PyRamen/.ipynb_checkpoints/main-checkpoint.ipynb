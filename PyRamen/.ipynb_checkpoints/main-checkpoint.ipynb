{
 "cells": [
  {
   "cell_type": "code",
   "execution_count": 4,
   "metadata": {},
   "outputs": [],
   "source": [
    "# Import the pathlib and csv library \n",
    "from pathlib import Path\n",
    "import csv"
   ]
  },
  {
   "cell_type": "code",
   "execution_count": 5,
   "metadata": {},
   "outputs": [
    {
     "name": "stdout",
     "output_type": "stream",
     "text": [
      "/Users/buritica97/Desktop/python-homework/PyRamen\n"
     ]
    }
   ],
   "source": [
    "# Set the file path \n",
    "print(f\"{Path.cwd()}\")\n",
    "menu_filepath = Path(\"../../cu-nyc-fin-pt-09-2020-u-c/Homework/02-Python/Instructions/PyRamen/Resources/menu_data.csv\")\n",
    "sales_filepath = Path(\"../../cu-nyc-fin-pt-09-2020-u-c/Homework/02-Python/Instructions/PyRamen/Resources/sales_data.csv\")"
   ]
  },
  {
   "cell_type": "code",
   "execution_count": 16,
   "metadata": {},
   "outputs": [],
   "source": [
    "# Initialize list objects to hold our menu and sales data\n",
    "menu = []\n",
    "sales = []"
   ]
  },
  {
   "cell_type": "code",
   "execution_count": 17,
   "metadata": {},
   "outputs": [
    {
     "name": "stdout",
     "output_type": "stream",
     "text": [
      "['edamame', 'house salad', 'cucumber sunomono salad', 'hiyashi wakame seaweed salad', 'agedashi tofu', 'hiyayakko tofu', 'pork floss bao', 'kakuni bao', 'edamame fried gyoza (vegan)', 'fried gyoza', 'takoyaki', 'rock shrimp tempura', 'soft-shell crab tempura', 'ebi katsu shrimp bao', 'nagomi shoyu', 'shio ramen', 'spicy miso ramen', 'vegetarian spicy miso', 'miso crab ramen', 'soft-shell miso crab ramen', 'tori paitan ramen', 'tonkotsu ramen', 'burnt garlic tonkotsu ramen', 'vegetarian curry + king trumpet mushroom ramen', 'truffle butter ramen', 'green tea', 'coke', 'black sesame ice cream', 'matcha ice cream', 'mango mochi ice cream', 'strawberry mochi ice cream', 'black sesame creme brulee']\n"
     ]
    }
   ],
   "source": [
    "# Read in the menu data into the menu list\n",
    "with open(menu_filepath, 'r') as csvfile:\n",
    "    menu_file_reader = csv.reader(csvfile, delimiter=',')\n",
    "    menu_file_header = next(menu_file_reader)\n",
    "    \n",
    "    for x in menu_file_reader: \n",
    "        menu.append(x[0])\n",
    "print(menu)"
   ]
  },
  {
   "cell_type": "code",
   "execution_count": 11,
   "metadata": {},
   "outputs": [
    {
     "name": "stdout",
     "output_type": "stream",
     "text": [
      "['Line_Item_ID', 'Date', 'Credit_Card_Number', 'Quantity', 'Menu_Item']\n"
     ]
    }
   ],
   "source": [
    "# Read in the sales data into the sales list\n",
    "with open(sales_filepath, 'r') as csvfile:\n",
    "    sales_file_reader = csv.reader(csvfile, delimiter=',')\n",
    "    sales_file_header = next(sales_file_reader)\n",
    "print(sales_file_header)"
   ]
  },
  {
   "cell_type": "code",
   "execution_count": null,
   "metadata": {},
   "outputs": [],
   "source": []
  }
 ],
 "metadata": {
  "kernelspec": {
   "display_name": "Python 3",
   "language": "python",
   "name": "python3"
  },
  "language_info": {
   "codemirror_mode": {
    "name": "ipython",
    "version": 3
   },
   "file_extension": ".py",
   "mimetype": "text/x-python",
   "name": "python",
   "nbconvert_exporter": "python",
   "pygments_lexer": "ipython3",
   "version": "3.8.3"
  }
 },
 "nbformat": 4,
 "nbformat_minor": 4
}
